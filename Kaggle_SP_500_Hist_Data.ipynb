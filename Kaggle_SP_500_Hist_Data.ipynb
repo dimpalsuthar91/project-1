{
 "cells": [
  {
   "cell_type": "code",
   "execution_count": null,
   "metadata": {},
   "outputs": [],
   "source": [
    "import pandas as pd\n",
    "import matplotlib.pyplot as plt\n",
    "%matplotlib inline\n",
    "import seaborn as sns\n"
   ]
  },
  {
   "cell_type": "code",
   "execution_count": null,
   "metadata": {},
   "outputs": [],
   "source": [
    "# Store filepath in a variable\n",
    "file_one = \"Kaggle_SP_500_Hist_data.csv\""
   ]
  },
  {
   "cell_type": "code",
   "execution_count": null,
   "metadata": {},
   "outputs": [],
   "source": [
    " # Read  Data file with the pandas library\n",
    "\n",
    "file_one_df = pd.read_csv(file_one, encoding=\"ISO-8859-1\")\n"
   ]
  },
  {
   "cell_type": "code",
   "execution_count": null,
   "metadata": {},
   "outputs": [],
   "source": [
    "file_one_df.head()"
   ]
  },
  {
   "cell_type": "code",
   "execution_count": null,
   "metadata": {},
   "outputs": [],
   "source": [
    "# Taking the dates as a list\n",
    "dates = list(file_one_df.date) \n",
    "\n",
    "# Creating another list with the first part\n",
    "# of the date split by '/'\n",
    "month = [d.split('/')[0] for d in dates] \n",
    "\n",
    "# Doing the same, but for the year\n",
    "year  = [d.split('/')[2] for d in dates] "
   ]
  },
  {
   "cell_type": "code",
   "execution_count": null,
   "metadata": {},
   "outputs": [],
   "source": [
    "# Create variable to hold quarters\n",
    "quarter = []\n",
    "\n",
    "# Create variable to hold year & quarter\n",
    "year_quarter = []\n",
    "\n",
    "# Loop that assigns month to quarters and appends year to quarter\n",
    "for i in range(len(month)):\n",
    "    m = month[i]\n",
    "    if m in ['1', '2', '3']:\n",
    "        quarter.append('Q1')\n",
    "        year_quarter.append(year[i] + '-' + 'Q1')\n",
    "    elif m in ['4', '5', '6']:\n",
    "        quarter.append('Q2')\n",
    "        year_quarter.append(year[i] + '-' + 'Q2')\n",
    "    elif m in ['7', '8', '9']:\n",
    "        quarter.append('Q3')\n",
    "        year_quarter.append(year[i] + '-' + 'Q3')\n",
    "    elif m in ['10', '11', '12']:\n",
    "        quarter.append('Q4')\n",
    "        year_quarter.append(year[i] + '-' + 'Q4')\n",
    "    else:\n",
    "        print (m)"
   ]
  },
  {
   "cell_type": "code",
   "execution_count": null,
   "metadata": {},
   "outputs": [],
   "source": [
    "# Create columns for quarter, year, & year_quarter\n",
    "\n",
    "file_one_df = file_one_df.assign(quarter = quarter, year = year, year_quarter = year_quarter)"
   ]
  },
  {
   "cell_type": "code",
   "execution_count": null,
   "metadata": {},
   "outputs": [],
   "source": [
    "file_one_df.head()"
   ]
  },
  {
   "cell_type": "code",
   "execution_count": null,
   "metadata": {},
   "outputs": [],
   "source": [
    "# Create variable for avg_by_qtr\n",
    "averages_by_quarter = file_one_df[['Name', 'year_quarter', 'close']].groupby(['Name', 'year_quarter'], as_index=False).mean()\n",
    "\n",
    "# Sort avg_by_qtr\n",
    "averages_by_quarter = averages_by_quarter.sort_values(['Name', 'year_quarter'])"
   ]
  },
  {
   "cell_type": "code",
   "execution_count": null,
   "metadata": {},
   "outputs": [],
   "source": [
    "averages_by_quarter[averages_by_quarter.Name == \"AAPL\"].head()"
   ]
  },
  {
   "cell_type": "code",
   "execution_count": null,
   "metadata": {},
   "outputs": [],
   "source": [
    "# Create variable to list companies average price by quarter\n",
    "\n",
    "companies = list(averages_by_quarter.Name.unique())"
   ]
  },
  {
   "cell_type": "code",
   "execution_count": null,
   "metadata": {},
   "outputs": [],
   "source": [
    "# Loop through companies plotting their avg price by quarter\n",
    "\n",
    "for company in companies:\n",
    "    plt.figure(figsize=(15,8))\n",
    "    ax = sns.pointplot(x=\"year_quarter\", y=\"close\", data=averages_by_quarter[averages_by_quarter.Name == company], ci=None)\n",
    "    ax.set(xlabel='Year-Quarter', ylabel='Average closing price', title = company)\n",
    "    plt.xticks(rotation=90)\n",
    "    fig = ax.get_figure()\n",
    "    fig.savefig(company + \".png\") \n",
    "    #fig.close()"
   ]
  },
  {
   "cell_type": "code",
   "execution_count": null,
   "metadata": {},
   "outputs": [],
   "source": []
  }
 ],
 "metadata": {
  "kernelspec": {
   "display_name": "Python 3",
   "language": "python",
   "name": "python3"
  },
  "language_info": {
   "codemirror_mode": {
    "name": "ipython",
    "version": 3
   },
   "file_extension": ".py",
   "mimetype": "text/x-python",
   "name": "python",
   "nbconvert_exporter": "python",
   "pygments_lexer": "ipython3",
   "version": "3.6.4"
  }
 },
 "nbformat": 4,
 "nbformat_minor": 2
}
